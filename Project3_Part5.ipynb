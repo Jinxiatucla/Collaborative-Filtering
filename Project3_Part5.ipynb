{
 "cells": [
  {
   "cell_type": "markdown",
   "metadata": {},
   "source": [
    "Question 30\n",
    "---"
   ]
  },
  {
   "cell_type": "code",
   "execution_count": 25,
   "metadata": {},
   "outputs": [
    {
     "name": "stdout",
     "output_type": "stream",
     "text": [
      "RMSE: 0.9623\n",
      "RMSE: 0.9553\n",
      "RMSE: 0.9642\n",
      "RMSE: 0.9684\n",
      "RMSE: 0.9610\n",
      "RMSE: 0.9536\n",
      "RMSE: 0.9767\n",
      "RMSE: 0.9665\n",
      "RMSE: 0.9539\n",
      "RMSE: 0.9608\n",
      "avg: 0.9622719245124223\n"
     ]
    }
   ],
   "source": [
    "import os\n",
    "import numpy as np\n",
    "from surprise import AlgoBase\n",
    "from surprise import Dataset\n",
    "from surprise import Reader\n",
    "from surprise.model_selection import cross_validate\n",
    "\n",
    "from surprise import accuracy\n",
    "from surprise.model_selection import KFold\n",
    "from surprise.prediction_algorithms.predictions import Prediction\n",
    "\n",
    "from six import iteritems\n",
    "\n",
    "\n",
    "\n",
    "class SymmetricAlgo(AlgoBase):\n",
    "    \"\"\"This is an abstract class aimed to ease the use of symmetric algorithms.\n",
    "    A symmetric algorithm is an algorithm that can can be based on users or on\n",
    "    items indifferently, e.g. all the algorithms in this module.\n",
    "    When the algo is user-based x denotes a user and y an item. Else, it's\n",
    "    reversed.\n",
    "    \"\"\"\n",
    "\n",
    "    def __init__(self, sim_options={}, **kwargs):\n",
    "\n",
    "        AlgoBase.__init__(self, sim_options=sim_options, **kwargs)\n",
    "\n",
    "    def fit(self, trainset):\n",
    "\n",
    "        AlgoBase.fit(self, trainset)\n",
    "\n",
    "        ub = self.sim_options['user_based']\n",
    "        self.n_x = self.trainset.n_users if ub else self.trainset.n_items\n",
    "        self.n_y = self.trainset.n_items if ub else self.trainset.n_users\n",
    "        self.xr = self.trainset.ur if ub else self.trainset.ir\n",
    "        self.yr = self.trainset.ir if ub else self.trainset.ur\n",
    "\n",
    "        return self\n",
    "\n",
    "    def switch(self, u_stuff, i_stuff):\n",
    "        \"\"\"Return x_stuff and y_stuff depending on the user_based field.\"\"\"\n",
    "\n",
    "        if self.sim_options['user_based']:\n",
    "            return u_stuff, i_stuff\n",
    "        else:\n",
    "            return i_stuff, u_stuff\n",
    "\n",
    "class NaiveCollabratingFilter(SymmetricAlgo):\n",
    "    \"\"\"\n",
    "    :math:`\\hat{r}_{ui} = \\mu_u`\n",
    "    \n",
    "    \"\"\"\n",
    "\n",
    "    def __init__(self, sim_options={}, **kwargs):\n",
    "\n",
    "        SymmetricAlgo.__init__(self, sim_options=sim_options, **kwargs)\n",
    "\n",
    "    def fit(self, trainset):\n",
    "\n",
    "        SymmetricAlgo.fit(self, trainset)\n",
    "#        self.sim = self.compute_similarities()\n",
    "\n",
    "        self.means = np.zeros(self.n_x)\n",
    "        for x, ratings in iteritems(self.xr):\n",
    "            self.means[x] = np.mean([r for (_, r) in ratings])\n",
    "\n",
    "        return self\n",
    "\n",
    "    def estimate(self, u, i):\n",
    "\n",
    "#         if not (self.trainset.knows_user(u) and self.trainset.knows_item(i)):\n",
    "#             raise PredictionImpossible('User and/or item is unkown.')\n",
    "        x, y = self.switch(u, i)\n",
    "        est = self.means[x]\n",
    "        \n",
    "        return est\n",
    "    \n",
    "file_path = os.path.expanduser('../ml-latest-small/ratings.csv')\n",
    "reader = Reader(line_format = 'user item rating timestamp', sep = ',', skip_lines = 1)\n",
    "data = Dataset.load_from_file(file_path, reader = reader)\n",
    "\n",
    "algo = NaiveCollabratingFilter()\n",
    "kf = KFold(n_splits=10)\n",
    "sum = 0\n",
    "for trainset, testset in kf.split(data):\n",
    "    algo.fit(trainset)\n",
    "    predictions = algo.test(testset)\n",
    "    sum += accuracy.rmse(predictions, verbose=True)\n",
    "print 'avg: ' + str(sum/10)    \n"
   ]
  },
  {
   "cell_type": "markdown",
   "metadata": {},
   "source": [
    "Question 31\n",
    "---"
   ]
  },
  {
   "cell_type": "code",
   "execution_count": 5,
   "metadata": {},
   "outputs": [],
   "source": [
    "from surprise.model_selection import KFold\n",
    "from surprise import accuracy\n",
    "\n",
    "x = range(2, 101, 2)\n",
    "\n",
    "# the trim function is used to process the testset\n",
    "# by default the trim function don't do anything\n",
    "def knn_filter_trim(trim = lambda x : x):\n",
    "    n_splits = 10\n",
    "    kf = KFold(n_splits = n_splits)\n",
    "    rmse = 0\n",
    "    algo = NaiveCollabratingFilter()\n",
    "    for trainset, testset in kf.split(data):\n",
    "        algo.fit(trainset)\n",
    "        testset = trim(testset)\n",
    "        prediction = algo.test(testset)\n",
    "        rmse += accuracy.rmse(prediction)\n",
    "    return rmse / n_splits"
   ]
  },
  {
   "cell_type": "code",
   "execution_count": 6,
   "metadata": {},
   "outputs": [
    {
     "name": "stdout",
     "output_type": "stream",
     "text": [
      "RMSE: 0.9584\n",
      "RMSE: 0.9363\n",
      "RMSE: 0.9391\n",
      "RMSE: 0.9411\n",
      "RMSE: 0.9418\n",
      "RMSE: 0.9409\n",
      "RMSE: 0.9516\n",
      "RMSE: 0.9426\n",
      "RMSE: 0.9518\n",
      "RMSE: 0.9611\n",
      "0.9464811276282006\n"
     ]
    }
   ],
   "source": [
    "# the trim function for popular movie trimming\n",
    "# delete the movie which has received less than or equal to 2 ratings\n",
    "# each item in testset is represented by (userId, movieId, rating)\n",
    "# this trim function can be used by Question 12 and 13\n",
    "def trim(testset, trim_condition = lambda x : x <= 2):\n",
    "    movie_map = dict()\n",
    "    for i in testset:\n",
    "        movie = i[1]\n",
    "        movie_map[movie] = 1 if (movie not in movie_map) else movie_map[movie] + 1\n",
    "    for movie_id in movie_map:\n",
    "        # meaning that this item should be trimmed\n",
    "        if trim_condition(movie_map[movie_id]):\n",
    "            testset = filter(lambda x: x[1] != movie_id, testset)\n",
    "    return testset\n",
    "        \n",
    "def trim_popular(testset):\n",
    "    return trim(testset)\n",
    "\n",
    "rmse_popular = knn_filter_trim(trim_popular)\n",
    "print rmse_popular"
   ]
  },
  {
   "cell_type": "markdown",
   "metadata": {},
   "source": [
    "Question 32\n",
    "---"
   ]
  },
  {
   "cell_type": "code",
   "execution_count": 7,
   "metadata": {},
   "outputs": [
    {
     "name": "stdout",
     "output_type": "stream",
     "text": [
      "RMSE: 1.0140\n",
      "RMSE: 0.9813\n",
      "RMSE: 0.9884\n",
      "RMSE: 1.0113\n",
      "RMSE: 0.9985\n",
      "RMSE: 0.9852\n",
      "RMSE: 0.9858\n",
      "RMSE: 0.9964\n",
      "RMSE: 1.0005\n",
      "RMSE: 1.0190\n",
      "0.9980208386428572\n"
     ]
    }
   ],
   "source": [
    "def trim_unpopular(testset):\n",
    "    return trim(testset, trim_condition = lambda x : x > 2)\n",
    "\n",
    "rmse_unpopular = knn_filter_trim(trim_unpopular)\n",
    "print rmse_unpopular"
   ]
  },
  {
   "cell_type": "markdown",
   "metadata": {},
   "source": [
    "Question 33\n",
    "---"
   ]
  },
  {
   "cell_type": "code",
   "execution_count": 8,
   "metadata": {},
   "outputs": [],
   "source": [
    "def trim_high_variance(testset):\n",
    "    movie_map = dict()\n",
    "    for (user, movie, rate) in movie_map:\n",
    "        if (movie in movie_map):\n",
    "            movie_map[movie].append(rate)\n",
    "        else:\n",
    "            movie_map[movie] = [rate]\n",
    "    for movie_id in movie_map:\n",
    "        rating = movie_map[movie_id]\n",
    "        if len(rating) < 5 or np.var(np.array(rating)) < 2:\n",
    "            testset = filter(lambda x: x[1] != movie_id, testset)\n",
    "    return testset "
   ]
  },
  {
   "cell_type": "code",
   "execution_count": 9,
   "metadata": {},
   "outputs": [
    {
     "name": "stdout",
     "output_type": "stream",
     "text": [
      "RMSE: 0.9611\n",
      "RMSE: 0.9683\n",
      "RMSE: 0.9624\n",
      "RMSE: 0.9617\n",
      "RMSE: 0.9602\n",
      "RMSE: 0.9691\n",
      "RMSE: 0.9734\n",
      "RMSE: 0.9552\n",
      "RMSE: 0.9573\n",
      "RMSE: 0.9557\n",
      "0.9624426162629863\n"
     ]
    }
   ],
   "source": [
    "rmse_high_variance = knn_filter_trim(trim_high_variance)\n",
    "print rmse_high_variance"
   ]
  },
  {
   "cell_type": "code",
   "execution_count": null,
   "metadata": {},
   "outputs": [],
   "source": []
  }
 ],
 "metadata": {
  "kernelspec": {
   "display_name": "Python 2",
   "language": "python",
   "name": "python2"
  },
  "language_info": {
   "codemirror_mode": {
    "name": "ipython",
    "version": 2
   },
   "file_extension": ".py",
   "mimetype": "text/x-python",
   "name": "python",
   "nbconvert_exporter": "python",
   "pygments_lexer": "ipython2",
   "version": "2.7.14"
  }
 },
 "nbformat": 4,
 "nbformat_minor": 2
}
