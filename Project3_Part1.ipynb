{
 "cells": [
  {
   "cell_type": "markdown",
   "metadata": {},
   "source": [
    "Question 1\n",
    "---"
   ]
  },
  {
   "cell_type": "code",
   "execution_count": 1,
   "metadata": {},
   "outputs": [],
   "source": [
    "\"this part is corresponding to Question 1 - 6\"\n",
    "\n",
    "import csv\n",
    "import numpy as np\n",
    "import math"
   ]
  },
  {
   "cell_type": "code",
   "execution_count": 2,
   "metadata": {},
   "outputs": [
    {
     "name": "stdout",
     "output_type": "stream",
     "text": [
      "0.0164391416087\n"
     ]
    }
   ],
   "source": [
    "path = \"../ml-latest-small/ratings.csv\"\n",
    "total_possible_rating = 0\n",
    "total_available_rating = 0\n",
    "rating_distribution = [0] * 10\n",
    "\n",
    "with open(path, 'r') as myFile:\n",
    "    lines = csv.reader(myFile)\n",
    "    user = dict()\n",
    "    movie_rating = dict()\n",
    "    first_row = True\n",
    "    for line in lines:\n",
    "        if first_row:\n",
    "            first_row = False\n",
    "            continue\n",
    "        total_available_rating += 1\n",
    "        user_id = int(line[0])\n",
    "        movie_id = int(line[1])\n",
    "        rating = float(line[2])\n",
    "        \n",
    "        u = user[user_id] if (user_id in user) else 0\n",
    "        user[user_id] = u + 1\n",
    "        if (movie_id in movie_rating):\n",
    "            movie_rating[movie_id].append(rating)\n",
    "        else:\n",
    "            movie_rating[movie_id] = [rating]\n",
    "        \n",
    "        rating = float(line[2])\n",
    "        rating_index = int(rating / 0.5) - 1\n",
    "        rating_distribution[rating_index] += 1\n",
    "    total_possible_rating = len(user) * len(movie_rating)\n",
    "\n",
    "# print total_available_rating\n",
    "# print total_possible_rating\n",
    "print float(total_available_rating) / total_possible_rating"
   ]
  },
  {
   "cell_type": "markdown",
   "metadata": {},
   "source": [
    "Question 2\n",
    "---"
   ]
  },
  {
   "cell_type": "code",
   "execution_count": 3,
   "metadata": {},
   "outputs": [
    {
     "name": "stdout",
     "output_type": "stream",
     "text": [
      "[1101, 3326, 1687, 7271, 4449, 20064, 10538, 28750, 7723, 15095]\n"
     ]
    },
    {
     "data": {
      "image/png": "[encoded data removed]",
      "text/plain": [
       "<matplotlib.figure.Figure at 0x1066341d0>"
      ]
     },
     "metadata": {},
     "output_type": "display_data"
    }
   ],
   "source": [
    "%matplotlib inline\n",
    "import matplotlib.pyplot as plt\n",
    "import numpy as np\n",
    "\n",
    "print rating_distribution\n",
    "\n",
    "def plot_histogram(x_labels, y, width = 0.4):\n",
    "    ind = np.linspace(0.5, 9.5, len(x_labels))\n",
    "    fig = plt.figure(1)\n",
    "    ax = fig.add_subplot(111)\n",
    "    ax.bar(ind - 0.2, y, width)\n",
    "    ax.set_xticks(ind)\n",
    "    ax.set_xticklabels(x_labels)\n",
    "    plt.grid(True)\n",
    "    plt.show()\n",
    "    \n",
    "plot_histogram([i * 0.5 for i in range(1, 11)], rating_distribution)"
   ]
  },
  {
   "cell_type": "markdown",
   "metadata": {},
   "source": [
    "Question 3\n",
    "---"
   ]
  },
  {
   "cell_type": "code",
   "execution_count": 4,
   "metadata": {},
   "outputs": [
    {
     "data": {
      "image/png": "[encoded data removed]",
      "text/plain": [
       "<matplotlib.figure.Figure at 0x1068632d0>"
      ]
     },
     "metadata": {},
     "output_type": "display_data"
    }
   ],
   "source": [
    "movie_list = [(i, len(movie_rating[i])) for i in movie_rating]\n",
    "movie_list = sorted(movie_list, cmp = lambda x, y: cmp(y[1], x[1]))\n",
    "movie_x = [str(i[0]) for i in movie_list]\n",
    "movie_y = [i[1] for i in movie_list]\n",
    "plt.plot(movie_y)\n",
    "plt.show()"
   ]
  },
  {
   "cell_type": "markdown",
   "metadata": {},
   "source": [
    "Question 4\n",
    "---"
   ]
  },
  {
   "cell_type": "code",
   "execution_count": 5,
   "metadata": {},
   "outputs": [
    {
     "data": {
      "image/png": "[encoded data removed]",
      "text/plain": [
       "<matplotlib.figure.Figure at 0x1055528d0>"
      ]
     },
     "metadata": {},
     "output_type": "display_data"
    }
   ],
   "source": [
    "user_list = [(i, user[i]) for i in user]\n",
    "user_list = sorted(user_list, cmp = lambda x, y: cmp(y[1], x[1]))\n",
    "# user_x = [i[0] for i in user_list][:100]\n",
    "user_y = [i[1] for i in user_list]\n",
    "plt.plot(user_y)\n",
    "plt.show()"
   ]
  },
  {
   "cell_type": "markdown",
   "metadata": {},
   "source": [
    "Question 6\n",
    "---"
   ]
  },
  {
   "cell_type": "code",
   "execution_count": 6,
   "metadata": {},
   "outputs": [
    {
     "data": {
      "image/png": "[encoded data removed]",
      "text/plain": [
       "<matplotlib.figure.Figure at 0x105d39650>"
      ]
     },
     "metadata": {},
     "output_type": "display_data"
    }
   ],
   "source": [
    "movie_rating_variance = {i: np.var(movie_rating[i]) for i in movie_rating}\n",
    "movie_variance = movie_rating_variance.values()\n",
    "a = 0\n",
    "for i in movie_variance:\n",
    "    a = max(a, i)\n",
    "top = int(math.ceil(a / 0.5))\n",
    "variance_x = [i * 0.5 + 0.25 for i in range(0, top)]\n",
    "variance_y = [0] * top\n",
    "\n",
    "for i in movie_variance:\n",
    "    variance_y[int(i / 0.5)] += 1\n",
    "\n",
    "plot_histogram(variance_x, variance_y)"
   ]
  }
 ],
 "metadata": {
  "kernelspec": {
   "display_name": "Python 2",
   "language": "python",
   "name": "python2"
  },
  "language_info": {
   "codemirror_mode": {
    "name": "ipython",
    "version": 2
   },
   "file_extension": ".py",
   "mimetype": "text/x-python",
   "name": "python",
   "nbconvert_exporter": "python",
   "pygments_lexer": "ipython2",
   "version": "2.7.10"
  }
 },
 "nbformat": 4,
 "nbformat_minor": 2
}
